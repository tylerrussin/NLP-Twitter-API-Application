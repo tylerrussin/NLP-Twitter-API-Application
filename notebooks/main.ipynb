{
 "cells": [
  {
   "cell_type": "code",
   "execution_count": 24,
   "metadata": {},
   "outputs": [],
   "source": [
    "import tweepy \n",
    "\n",
    "from os import getenv\n",
    "import psycopg2\n",
    "from dotenv import load_dotenv\n",
    "load_dotenv()\n",
    "\n",
    "TWITTER_CONSUMER_API_KEY = getenv('TWITTER_CONSUMER_API_KEY')\n",
    "TWITTER_CONSUMER_API_SECRET = getenv('TWITTER_CONSUMER_API_SECRET')\n",
    "TWITTER_ACCESS_TOKEN = getenv('TWITTER_ACCESS_TOKEN')\n",
    "TWITTER_ACCESS_TOKEN_SECRET = getenv('TWITTER_ACCESS_TOKEN_SECRET')\n",
    "\n",
    "TWITTER_AUTH = tweepy.OAuthHandler(TWITTER_CONSUMER_API_KEY,TWITTER_CONSUMER_API_SECRET)\n",
    "TWITTER_AUTH.set_access_token(TWITTER_ACCESS_TOKEN, TWITTER_ACCESS_TOKEN_SECRET)\n",
    "TWITTER = tweepy.API(TWITTER_AUTH)"
   ]
  },
  {
   "cell_type": "code",
   "execution_count": 34,
   "metadata": {},
   "outputs": [],
   "source": [
    "twitter_user = TWITTER.user_timeline(screen_name=\"elonmusk\", max_id=1491529818986487816)\n"
   ]
  },
  {
   "cell_type": "code",
   "execution_count": 37,
   "metadata": {},
   "outputs": [
    {
     "data": {
      "text/plain": [
       "20"
      ]
     },
     "execution_count": 37,
     "metadata": {},
     "output_type": "execute_result"
    }
   ],
   "source": [
    "len(twitter_user)"
   ]
  },
  {
   "cell_type": "code",
   "execution_count": 33,
   "metadata": {},
   "outputs": [
    {
     "data": {
      "text/plain": [
       "1491529818986487816"
      ]
     },
     "execution_count": 33,
     "metadata": {},
     "output_type": "execute_result"
    }
   ],
   "source": [
    "twitter_user[1].id\n"
   ]
  },
  {
   "cell_type": "code",
   "execution_count": null,
   "metadata": {},
   "outputs": [],
   "source": []
  },
  {
   "cell_type": "code",
   "execution_count": 16,
   "metadata": {},
   "outputs": [
    {
     "name": "stdout",
     "output_type": "stream",
     "text": [
      "agkecyit\n",
      "Connecting to the PostgreSQL database...\n"
     ]
    }
   ],
   "source": [
    "\n",
    "\n",
    "\n",
    "\n",
    "def connect(DATABASE, USERNAME, PASSWORD, HOST):\n",
    "    \"\"\" Connect to the PostgreSQL database server \"\"\"\n",
    "    elephantsql_client = None\n",
    "    try:\n",
    "        # connect to the PostgreSQL server\n",
    "        print('Connecting to the PostgreSQL database...')\n",
    "\n",
    "        # Connect to ElephantSQL-hosted PostgreSQL\n",
    "        elephantsql_client = psycopg2.connect(dbname=DATABASE, user=USERNAME, password=PASSWORD, host=HOST)\n",
    "\n",
    "    except (Exception, psycopg2.DatabaseError) as error:\n",
    "        print(error)\n",
    "        sys.exit(1)\n",
    "    return elephantsql_client\n",
    "\n",
    "ELEPHANTSQL_DATABASE = getenv('ELEPHANTSQL_DATABASE')\n",
    "ELEPHANTSQL_USERNAME = getenv('ELEPHANTSQL_USERNAME')\n",
    "ELEPHANTSQL_PASSWORD = getenv('ELEPHANTSQL_PASSWORD')\n",
    "ELEPHANTSQL_HOST = getenv('ELEPHANTSQL_HOST')\n",
    "\n",
    "\n",
    "# Building Inital Table\n",
    "elephantsql_client = connect(ELEPHANTSQL_DATABASE, ELEPHANTSQL_USERNAME, ELEPHANTSQL_PASSWORD, ELEPHANTSQL_HOST)\n",
    "\n",
    "# cur = elephantsql_client.cursor()\n",
    "# cur.close()"
   ]
  },
  {
   "cell_type": "code",
   "execution_count": null,
   "metadata": {},
   "outputs": [],
   "source": [
    "def create_table(elephantsql_client):\n",
    "    ''' Creating a table based on whats being stored on twitoff app'''\n",
    "\n",
    "    # For the purposes of this I will handwrite the sql commands\n",
    "    command = '''\n",
    "        CREATE TABLE IF NOT EXISTS usernames_table (id                      SERIAL PRIMARY KEY,\n",
    "                                                    profile_image_url       varchar(30)\n",
    "                                                    username                varchar(30),\n",
    "                                                    real_name               varchar(30),\n",
    "                                                    bio                     varchar(200),\n",
    "                                                    birthday                varchar(30),\n",
    "                                                    followers               varchar(30),\n",
    "                                                    following               varchar(30))\n",
    "                                                \n",
    "        '''\n",
    "\n",
    "    command = '''\n",
    "    CREATE TABLE IF NOT EXISTS recent_comparisons_table (id                 SERIAL PRIMARY KEY,\n",
    "                                                         result             varchar(50),\n",
    "                                                         user_one           varchar(30),\n",
    "                                                         user_two           varchar(30),\n",
    "                                                         input_text         varchar(500))\n",
    "                                            \n",
    "    '''\n",
    "\n",
    "    command = '''\n",
    "    CREATE TABLE IF NOT EXISTS {}_tweets_table (id                 SERIAL PRIMARY KEY,\n",
    "                                                tweet_text             varchar(500))\n",
    "                                            \n",
    "    '''\n",
    "    \n",
    "    try:\n",
    "\n",
    "        # A \"cursor\", a structure to iterate over db records to perform queries\n",
    "        cur = elephantsql_client.cursor()\n",
    "\n",
    "        # Execute commands in order\n",
    "        cur.execute(command)\n",
    "\n",
    "        # Close communication with the PostgreSQL database server\n",
    "        cur.close()\n",
    "\n",
    "        # Commit the changes\n",
    "        elephantsql_client.commit()\n",
    "\n",
    "    except (Exception, psycopg2.DatabaseError) as error:\n",
    "        print(error)\n",
    "\n",
    "def single_insert(elephantsql_client, insert_req):\n",
    "    \"\"\" Execute a single INSERT request \"\"\"\n",
    "    cur = elephantsql_client.cursor()\n",
    "    try:\n",
    "        cur.execute(insert_req)\n",
    "        elephantsql_client.commit()\n",
    "    except (Exception, psycopg2.DatabaseError) as error:\n",
    "        print(\"Error: %s\" % error)\n",
    "        elephantsql_client.rollback()\n",
    "        cur.close()\n",
    "        return 1\n",
    "    cur.close()"
   ]
  }
 ],
 "metadata": {
  "interpreter": {
   "hash": "0b8e1b44fef6f769bdcd84daa9e6bcf329c54142ae85aa21700236386f9708da"
  },
  "kernelspec": {
   "display_name": "Python 3.9.9 64-bit (windows store)",
   "language": "python",
   "name": "python3"
  },
  "language_info": {
   "codemirror_mode": {
    "name": "ipython",
    "version": 3
   },
   "file_extension": ".py",
   "mimetype": "text/x-python",
   "name": "python",
   "nbconvert_exporter": "python",
   "pygments_lexer": "ipython3",
   "version": "3.7.9"
  },
  "orig_nbformat": 4
 },
 "nbformat": 4,
 "nbformat_minor": 2
}
