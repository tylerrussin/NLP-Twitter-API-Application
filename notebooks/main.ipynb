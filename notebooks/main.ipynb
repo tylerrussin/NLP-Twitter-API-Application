{
 "cells": [
  {
   "cell_type": "code",
   "execution_count": 19,
   "metadata": {},
   "outputs": [],
   "source": [
    "import tweepy \n",
    "\n",
    "from os import getenv\n",
    "import psycopg2\n",
    "from dotenv import load_dotenv\n",
    "load_dotenv()\n",
    "\n",
    "TWITTER_CONSUMER_API_KEY = getenv('TWITTER_CONSUMER_API_KEY')\n",
    "TWITTER_CONSUMER_API_SECRET = getenv('TWITTER_CONSUMER_API_SECRET')\n",
    "TWITTER_ACCESS_TOKEN = getenv('TWITTER_ACCESS_TOKEN')\n",
    "TWITTER_ACCESS_TOKEN_SECRET = getenv('TWITTER_ACCESS_TOKEN_SECRET')\n",
    "\n",
    "TWITTER_AUTH = tweepy.OAuthHandler(TWITTER_CONSUMER_API_KEY,TWITTER_CONSUMER_API_SECRET)\n",
    "TWITTER_AUTH.set_access_token(TWITTER_ACCESS_TOKEN, TWITTER_ACCESS_TOKEN_SECRET)\n",
    "TWITTER = tweepy.API(TWITTER_AUTH)"
   ]
  },
  {
   "cell_type": "code",
   "execution_count": 20,
   "metadata": {},
   "outputs": [
    {
     "name": "stdout",
     "output_type": "stream",
     "text": [
      "https://t.co/BDP2yRxYpI\n",
      "https://t.co/j1j32Iu1oA\n",
      "Tower arms are lifting Starship onto Super Heavy Booster https://t.co/kJacH9sRBI\n",
      "@slashdot This would generate a lot of goodwill\n",
      "@TechCrunch 🧲 ⛈ 🪦\n",
      "@archillect 🖤\n",
      "Much appreciated! https://t.co/ncGA3LA7x9\n",
      "@SawyerMerritt @WholeMarsBlog Model X is an extremely difficult car to build. Most complex passenger car ever. Limiting factor is interior trim.\n",
      "@TheBabylonBee 🤣\n",
      "@SawyerMerritt @WholeMarsBlog We dropped the ball badly regarding new Model X production ramp &amp; still haven’t fully recovered. Was idiotic to stop production of old X in Dec 2020 when there was still plenty of demand!\n",
      "@BillyM2k @MrBeast Pretty much\n",
      "@TheBabylonBee 🤣\n",
      "@GailAlfarATX @POTUS Thanks, this made a difference!\n",
      "@SawyerMerritt 😎\n",
      "@POTUS Tesla https://t.co/3yhDxY2pjA\n",
      "@teslaownersSV @boringcompany @mayemusk @kimbal Yup!\n",
      "Most news outlets attempt to answer the question: “What are the worst things happening on Earth today?”\n",
      "\n",
      "It’s a big planet! Obviously, some bad things are happening somewhere at any given time, but focusing relentlessly on those does not give an accurate picture of reality.\n",
      "@GailAlfarATX So hard to find out what’s going on in the world without being bombarded with news that makes one sad &amp; angry!\n",
      "@GuiStroz @JohnnaCrider1 True, careless negativity (destruction) is much harder than thoughtful positivity (creation)\n",
      "@stevenmarkryan Sadly true\n",
      "@JohnnaCrider1 That’s true to some degree, but citizen podcasts that aren’t negative like Rogan, Fridman, Dodd, TED interviews, etc are very popular. \n",
      "\n",
      "Maybe part of why traditional media outlets are so negative is because old habits die hard? They so rarely even try to be positive.\n"
     ]
    }
   ],
   "source": [
    "for status in tweepy.Cursor(TWITTER.user_timeline, screen_name='@elonmusk', tweet_mode=\"extended\", count=200).items():\n",
    "    print(status.full_text)\n"
   ]
  },
  {
   "cell_type": "code",
   "execution_count": 13,
   "metadata": {},
   "outputs": [
    {
     "name": "stdout",
     "output_type": "stream",
     "text": [
      "@slashdot This would generate a lot of goodwill\n",
      "@TechCrunch 🧲 ⛈ 🪦\n",
      "@archillect 🖤\n",
      "Much appreciated! https://t.co/ncGA3LA7x9\n",
      "@SawyerMerritt @WholeMarsBlog Model X is an extremely difficult car to build. Most complex passenger car ever. Limiting factor is interior trim.\n",
      "@TheBabylonBee 🤣\n",
      "@SawyerMerritt @WholeMarsBlog We dropped the ball badly regarding new Model X production ramp &amp; still haven’t fully recovered. Was idiotic to stop production of old X in Dec 2020 when there was still plenty of demand!\n",
      "@BillyM2k @MrBeast Pretty much\n",
      "@TheBabylonBee 🤣\n",
      "@GailAlfarATX @POTUS Thanks, this made a difference!\n",
      "@SawyerMerritt 😎\n",
      "@POTUS Tesla https://t.co/3yhDxY2pjA\n",
      "@teslaownersSV @boringcompany @mayemusk @kimbal Yup!\n",
      "Most news outlets attempt to answer the question: “What are the worst things happening on Earth today?”\n",
      "\n",
      "It’s a big planet! Obviously, some bad things are happening somewhere at any given time, but focusing relentlessly on those does not give an accurate picture of reality.\n",
      "@GailAlfarATX So hard to find out what’s going on in the world without being bombarded with news that makes one sad &amp; angry!\n",
      "@GuiStroz @JohnnaCrider1 True, careless negativity (destruction) is much harder than thoughtful positivity (creation)\n",
      "@stevenmarkryan Sadly true\n",
      "@JohnnaCrider1 That’s true to some degree, but citizen podcasts that aren’t negative like Rogan, Fridman, Dodd, TED interviews, etc are very popular. \n",
      "\n",
      "Maybe part of why traditional media outlets are so negative is because old habits die hard? They so rarely even try to be positive.\n",
      "@greg16676935420 🤣👍\n",
      "@slashdot Not needed\n",
      "Why is the “traditional” media such a relentless hatestream? Real question.\n",
      "@TheBabylonBee Fate ♥️ Irony\n",
      "@wintonARK It was so crazy! The insane tweet FUD campaign &amp; press hatestream of 2017-2019 is still easily found.\n",
      "🎶Always look on the bright side of life🎶\n",
      "🤣\n",
      "@BLKMDL3 @DragTimes Nice!\n",
      "@BillyM2k 💯\n",
      "@NathalieRach @Not_the_Bee @TheBabylonBee True\n",
      "@Not_the_Bee @TheBabylonBee What a hypocrite\n",
      "@UniverCurious High time we had tunnels!\n",
      "@boringcompany @ResortsWorldLV @LVCVA The Boring Company just connected Resorts World hotel to Vegas Convention Center!\n",
      "@Teslarati @13ericralph31 @StarshipGazer As backdrops go, this is a good one\n",
      "@nypost I’m pro vaccination, but anti vaccination mandate\n",
      "@slashdot Agreed\n",
      "@TeslaNY @live_munro Munro understands\n",
      "[Satire]\n",
      "🚬 Thank You for Smoking 🚬\n",
      "Tesla Model S &amp; X Plaid are so fun! https://t.co/lcaTVyEPzN\n",
      "Extended tracking shot of Falcon 9\n",
      "https://t.co/LlUIgOqCxC\n",
      "@EvaFoxU 🤣\n",
      "https://t.co/fm7mJLuf97\n"
     ]
    }
   ],
   "source": [
    "twitter_user = TWITTER.user_timeline(screen_name=\"elonmusk\", since_id=1491150551752769538)\n"
   ]
  },
  {
   "cell_type": "code",
   "execution_count": 10,
   "metadata": {},
   "outputs": [
    {
     "data": {
      "text/plain": [
       "11"
      ]
     },
     "execution_count": 10,
     "metadata": {},
     "output_type": "execute_result"
    }
   ],
   "source": [
    "len(twitter_user)"
   ]
  },
  {
   "cell_type": "code",
   "execution_count": 11,
   "metadata": {},
   "outputs": [],
   "source": [
    "test = twitter_user[0]\n",
    "\n"
   ]
  },
  {
   "cell_type": "code",
   "execution_count": 12,
   "metadata": {},
   "outputs": [
    {
     "data": {
      "text/plain": [
       "datetime.datetime(2022, 2, 9, 21, 56, 8, tzinfo=datetime.timezone.utc)"
      ]
     },
     "execution_count": 12,
     "metadata": {},
     "output_type": "execute_result"
    }
   ],
   "source": [
    "test.created_at"
   ]
  },
  {
   "cell_type": "code",
   "execution_count": 16,
   "metadata": {},
   "outputs": [
    {
     "name": "stdout",
     "output_type": "stream",
     "text": [
      "agkecyit\n",
      "Connecting to the PostgreSQL database...\n"
     ]
    }
   ],
   "source": [
    "\n",
    "\n",
    "\n",
    "\n",
    "def connect(DATABASE, USERNAME, PASSWORD, HOST):\n",
    "    \"\"\" Connect to the PostgreSQL database server \"\"\"\n",
    "    elephantsql_client = None\n",
    "    try:\n",
    "        # connect to the PostgreSQL server\n",
    "        print('Connecting to the PostgreSQL database...')\n",
    "\n",
    "        # Connect to ElephantSQL-hosted PostgreSQL\n",
    "        elephantsql_client = psycopg2.connect(dbname=DATABASE, user=USERNAME, password=PASSWORD, host=HOST)\n",
    "\n",
    "    except (Exception, psycopg2.DatabaseError) as error:\n",
    "        print(error)\n",
    "        sys.exit(1)\n",
    "    return elephantsql_client\n",
    "\n",
    "ELEPHANTSQL_DATABASE = getenv('ELEPHANTSQL_DATABASE')\n",
    "ELEPHANTSQL_USERNAME = getenv('ELEPHANTSQL_USERNAME')\n",
    "ELEPHANTSQL_PASSWORD = getenv('ELEPHANTSQL_PASSWORD')\n",
    "ELEPHANTSQL_HOST = getenv('ELEPHANTSQL_HOST')\n",
    "\n",
    "\n",
    "# Building Inital Table\n",
    "elephantsql_client = connect(ELEPHANTSQL_DATABASE, ELEPHANTSQL_USERNAME, ELEPHANTSQL_PASSWORD, ELEPHANTSQL_HOST)\n",
    "\n",
    "# cur = elephantsql_client.cursor()\n",
    "# cur.close()"
   ]
  },
  {
   "cell_type": "code",
   "execution_count": null,
   "metadata": {},
   "outputs": [],
   "source": [
    "def create_table(elephantsql_client):\n",
    "    ''' Creating a table based on whats being stored on twitoff app'''\n",
    "\n",
    "    # For the purposes of this I will handwrite the sql commands\n",
    "    command = '''\n",
    "        CREATE TABLE IF NOT EXISTS usernames_table (id                      SERIAL PRIMARY KEY,\n",
    "                                                    profile_image_url       varchar(30)\n",
    "                                                    username                varchar(30),\n",
    "                                                    real_name               varchar(30),\n",
    "                                                    bio                     varchar(200),\n",
    "                                                    birthday                varchar(30),\n",
    "                                                    followers               varchar(30),\n",
    "                                                    following               varchar(30))\n",
    "                                                \n",
    "        '''\n",
    "\n",
    "    command = '''\n",
    "    CREATE TABLE IF NOT EXISTS recent_comparisons_table (id                 SERIAL PRIMARY KEY,\n",
    "                                                         result             varchar(50),\n",
    "                                                         user_one           varchar(30),\n",
    "                                                         user_two           varchar(30),\n",
    "                                                         input_text         varchar(500))\n",
    "                                            \n",
    "    '''\n",
    "\n",
    "    command = '''\n",
    "    CREATE TABLE IF NOT EXISTS {}_tweets_table (id                 SERIAL PRIMARY KEY,\n",
    "                                                tweet_text             varchar(500))\n",
    "                                            \n",
    "    '''\n",
    "    \n",
    "    try:\n",
    "\n",
    "        # A \"cursor\", a structure to iterate over db records to perform queries\n",
    "        cur = elephantsql_client.cursor()\n",
    "\n",
    "        # Execute commands in order\n",
    "        cur.execute(command)\n",
    "\n",
    "        # Close communication with the PostgreSQL database server\n",
    "        cur.close()\n",
    "\n",
    "        # Commit the changes\n",
    "        elephantsql_client.commit()\n",
    "\n",
    "    except (Exception, psycopg2.DatabaseError) as error:\n",
    "        print(error)\n",
    "\n",
    "def single_insert(elephantsql_client, insert_req):\n",
    "    \"\"\" Execute a single INSERT request \"\"\"\n",
    "    cur = elephantsql_client.cursor()\n",
    "    try:\n",
    "        cur.execute(insert_req)\n",
    "        elephantsql_client.commit()\n",
    "    except (Exception, psycopg2.DatabaseError) as error:\n",
    "        print(\"Error: %s\" % error)\n",
    "        elephantsql_client.rollback()\n",
    "        cur.close()\n",
    "        return 1\n",
    "    cur.close()"
   ]
  }
 ],
 "metadata": {
  "interpreter": {
   "hash": "0b8e1b44fef6f769bdcd84daa9e6bcf329c54142ae85aa21700236386f9708da"
  },
  "kernelspec": {
   "display_name": "Python 3.9.9 64-bit (windows store)",
   "language": "python",
   "name": "python3"
  },
  "language_info": {
   "codemirror_mode": {
    "name": "ipython",
    "version": 3
   },
   "file_extension": ".py",
   "mimetype": "text/x-python",
   "name": "python",
   "nbconvert_exporter": "python",
   "pygments_lexer": "ipython3",
   "version": "3.7.9"
  },
  "orig_nbformat": 4
 },
 "nbformat": 4,
 "nbformat_minor": 2
}
