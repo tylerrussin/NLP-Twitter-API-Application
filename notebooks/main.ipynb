{
 "cells": [
  {
   "cell_type": "code",
   "execution_count": 16,
   "metadata": {},
   "outputs": [
    {
     "name": "stdout",
     "output_type": "stream",
     "text": [
      "agkecyit\n",
      "Connecting to the PostgreSQL database...\n"
     ]
    }
   ],
   "source": [
    "from os import getenv\n",
    "import psycopg2\n",
    "from dotenv import load_dotenv\n",
    "load_dotenv()\n",
    "\n",
    "\n",
    "\n",
    "def connect(DATABASE, USERNAME, PASSWORD, HOST):\n",
    "    \"\"\" Connect to the PostgreSQL database server \"\"\"\n",
    "    elephantsql_client = None\n",
    "    try:\n",
    "        # connect to the PostgreSQL server\n",
    "        print('Connecting to the PostgreSQL database...')\n",
    "\n",
    "        # Connect to ElephantSQL-hosted PostgreSQL\n",
    "        elephantsql_client = psycopg2.connect(dbname=DATABASE, user=USERNAME, password=PASSWORD, host=HOST)\n",
    "\n",
    "    except (Exception, psycopg2.DatabaseError) as error:\n",
    "        print(error)\n",
    "        sys.exit(1)\n",
    "    return elephantsql_client\n",
    "\n",
    "ELEPHANTSQL_DATABASE = getenv('ELEPHANTSQL_DATABASE')\n",
    "ELEPHANTSQL_USERNAME = getenv('ELEPHANTSQL_USERNAME')\n",
    "ELEPHANTSQL_PASSWORD = getenv('ELEPHANTSQL_PASSWORD')\n",
    "ELEPHANTSQL_HOST = getenv('ELEPHANTSQL_HOST')\n",
    "\n",
    "elephantsql_client = connect(ELEPHANTSQL_DATABASE, ELEPHANTSQL_USERNAME, ELEPHANTSQL_PASSWORD, ELEPHANTSQL_HOST)\n",
    "\n",
    "# cur = elephantsql_client.cursor()\n",
    "# cur.close()"
   ]
  },
  {
   "cell_type": "code",
   "execution_count": null,
   "metadata": {},
   "outputs": [],
   "source": []
  }
 ],
 "metadata": {
  "interpreter": {
   "hash": "0b8e1b44fef6f769bdcd84daa9e6bcf329c54142ae85aa21700236386f9708da"
  },
  "kernelspec": {
   "display_name": "Python 3.9.9 64-bit (windows store)",
   "language": "python",
   "name": "python3"
  },
  "language_info": {
   "codemirror_mode": {
    "name": "ipython",
    "version": 3
   },
   "file_extension": ".py",
   "mimetype": "text/x-python",
   "name": "python",
   "nbconvert_exporter": "python",
   "pygments_lexer": "ipython3",
   "version": "3.9.9"
  },
  "orig_nbformat": 4
 },
 "nbformat": 4,
 "nbformat_minor": 2
}
