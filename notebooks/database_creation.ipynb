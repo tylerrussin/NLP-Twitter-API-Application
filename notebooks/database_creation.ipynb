{
 "cells": [
  {
   "cell_type": "code",
   "execution_count": 75,
   "metadata": {},
   "outputs": [
    {
     "data": {
      "text/plain": [
       "True"
      ]
     },
     "execution_count": 75,
     "metadata": {},
     "output_type": "execute_result"
    }
   ],
   "source": [
    "import sys\n",
    "import re\n",
    "import tweepy\n",
    "import psycopg2\n",
    "from os import getenv\n",
    "from dotenv import load_dotenv\n",
    "load_dotenv()"
   ]
  },
  {
   "cell_type": "code",
   "execution_count": 76,
   "metadata": {},
   "outputs": [],
   "source": [
    "ELEPHANTSQL_DATABASE = getenv('ELEPHANTSQL_DATABASE')\n",
    "ELEPHANTSQL_USERNAME = getenv('ELEPHANTSQL_USERNAME')\n",
    "ELEPHANTSQL_PASSWORD = getenv('ELEPHANTSQL_PASSWORD')\n",
    "ELEPHANTSQL_HOST = getenv('ELEPHANTSQL_HOST')\n",
    "\n",
    "TWITTER_CONSUMER_API_KEY = getenv('TWITTER_CONSUMER_API_KEY')\n",
    "TWITTER_CONSUMER_API_SECRET = getenv('TWITTER_CONSUMER_API_SECRET')\n",
    "TWITTER_ACCESS_TOKEN = getenv('TWITTER_ACCESS_TOKEN')\n",
    "TWITTER_ACCESS_TOKEN_SECRET = getenv('TWITTER_ACCESS_TOKEN_SECRET')\n",
    "\n",
    "TWITTER_AUTH = tweepy.OAuthHandler(TWITTER_CONSUMER_API_KEY,TWITTER_CONSUMER_API_SECRET)\n",
    "TWITTER_AUTH.set_access_token(TWITTER_ACCESS_TOKEN, TWITTER_ACCESS_TOKEN_SECRET)\n",
    "TWITTER = tweepy.API(TWITTER_AUTH)"
   ]
  },
  {
   "cell_type": "code",
   "execution_count": 77,
   "metadata": {},
   "outputs": [],
   "source": [
    "def connect(DATABASE, USERNAME, PASSWORD, HOST):\n",
    "    \"\"\" Connect to the PostgreSQL database server \"\"\"\n",
    "    elephantsql_client = None\n",
    "    try:\n",
    "        # connect to the PostgreSQL server\n",
    "        print('Connecting to the PostgreSQL database...')\n",
    "\n",
    "        # Connect to ElephantSQL-hosted PostgreSQL\n",
    "        elephantsql_client = psycopg2.connect(dbname=DATABASE, user=USERNAME, password=PASSWORD, host=HOST)\n",
    "\n",
    "    except (Exception, psycopg2.DatabaseError) as error:\n",
    "        print(error)\n",
    "        sys.exit(1)\n",
    "    return elephantsql_client"
   ]
  },
  {
   "cell_type": "code",
   "execution_count": 78,
   "metadata": {},
   "outputs": [],
   "source": [
    "def create_table(elephantsql_client, command):\n",
    "    '''Creating table with given input command'''    \n",
    "    try:\n",
    "        # A \"cursor\", a structure to iterate over db records to perform queries\n",
    "        cur = elephantsql_client.cursor()\n",
    "\n",
    "        # Execute commands in order\n",
    "        cur.execute(command)\n",
    "\n",
    "        # Close communication with the PostgreSQL database server\n",
    "        cur.close()\n",
    "\n",
    "        # Commit the changes\n",
    "        elephantsql_client.commit()\n",
    "\n",
    "    except (Exception, psycopg2.DatabaseError) as error:\n",
    "        print(error)"
   ]
  },
  {
   "cell_type": "code",
   "execution_count": 79,
   "metadata": {},
   "outputs": [],
   "source": [
    "def single_insert(elephantsql_client, insert_req):\n",
    "    \"\"\" Execute a single INSERT request \"\"\"\n",
    "    cur = elephantsql_client.cursor()\n",
    "    try:\n",
    "        cur.execute(insert_req)\n",
    "        elephantsql_client.commit()\n",
    "    except (Exception, psycopg2.DatabaseError) as error:\n",
    "        print(\"Error: %s\" % error)\n",
    "        elephantsql_client.rollback()\n",
    "        cur.close()\n",
    "        return 1\n",
    "    cur.close()"
   ]
  },
  {
   "cell_type": "code",
   "execution_count": 80,
   "metadata": {},
   "outputs": [],
   "source": [
    "def clean_tweet(tweet):\n",
    "    '''Cleaning raw tweet for modeling'''\n",
    "\n",
    "    tweet = tweet.lower()\n",
    "    emoji_list = tweet.split()                  # Creating list to reference emojis\n",
    "    tweet = re.sub('[^a-z 0-9]', '', tweet)\n",
    "    tweet = tweet.split(' ')\n",
    "    output_string = ''\n",
    "\n",
    "    # Creating output string, handeling links and emojis\n",
    "    for index, token in enumerate(tweet):\n",
    "        if token[0:4] == 'http':\n",
    "            pass\n",
    "        elif token == '':\n",
    "            try:\n",
    "                output_string = output_string + ' ' + str(ord(emoji_list[index]))   # Replacing emoji with number value\n",
    "            except:\n",
    "                # Token is not an emoji\n",
    "                pass\n",
    "        else:\n",
    "            output_string = output_string + ' ' + token\n",
    "\n",
    "    output_string = output_string[1:]\n",
    "\n",
    "    return output_string"
   ]
  },
  {
   "cell_type": "code",
   "execution_count": 81,
   "metadata": {},
   "outputs": [],
   "source": [
    "def generate_tweets(elephantsql_client, user):\n",
    "    \"\"\" Calling Twitter API, adding tweets to user database \"\"\"\n",
    "\n",
    "    base_query = '''INSERT INTO {}_tweets_table (tweet) VALUES '''.format(user[1:])     # base insert statment\n",
    "    query = base_query\n",
    "    count = 0\n",
    "\n",
    "    # Calling twitter api and iterating over returned tweets\n",
    "    for status in tweepy.Cursor(TWITTER.user_timeline, screen_name=user, tweet_mode=\"extended\", count=200).items():\n",
    "        if count == 1000:\n",
    "            query = query[:-1]  # Removing comma\n",
    "            single_insert(elephantsql_client, query)    # Inserting tweets into user database\n",
    "            query = base_query\n",
    "            count = 0\n",
    "        else:    \n",
    "            query = query + \"('\" + clean_tweet(status.full_text) + \"'),\"    # Adding tweet value to query string\n",
    "            count = count + 1\n",
    "\n",
    "    query = query[:-1]  # Removing comma\n",
    "    single_insert(elephantsql_client, query)    # Inserting tweets into user database"
   ]
  },
  {
   "cell_type": "markdown",
   "metadata": {},
   "source": [
    "**Initial Data**"
   ]
  },
  {
   "cell_type": "code",
   "execution_count": 82,
   "metadata": {},
   "outputs": [],
   "source": [
    "# Initial users\n",
    "user1 = '@nasa'\n",
    "user2 = '@barackobama'\n",
    "user3 = '@justinbieber'\n",
    "user4 = '@billgates'\n",
    "\n",
    "# Recent Comparions\n",
    "comp1 = '@nasa is more likely to say \"This week at NASA, we celebrate @NASAPersevere’s first landiversary, admire new X-ray images from #IXPE, and prepare for the next @NorthropGrumman resupply mission to the @SpaceStation.\" than @justinbieber'"
   ]
  },
  {
   "cell_type": "markdown",
   "metadata": {},
   "source": [
    "**Create tweets tables**"
   ]
  },
  {
   "cell_type": "code",
   "execution_count": 83,
   "metadata": {},
   "outputs": [
    {
     "name": "stdout",
     "output_type": "stream",
     "text": [
      "Connecting to the PostgreSQL database...\n",
      "Connection is closed.\n"
     ]
    }
   ],
   "source": [
    "# Database connection\n",
    "elephantsql_client = connect(ELEPHANTSQL_DATABASE, ELEPHANTSQL_USERNAME, ELEPHANTSQL_PASSWORD, ELEPHANTSQL_HOST)\n",
    "\n",
    "# Building Inital user tweet tables\n",
    "command = '''CREATE TABLE IF NOT EXISTS {}_tweets_table (tweet       varchar(500))'''.format(user1[1:])\n",
    "create_table(elephantsql_client, command)\n",
    "\n",
    "command = '''CREATE TABLE IF NOT EXISTS {}_tweets_table (tweet       varchar(500))'''.format(user2[1:])\n",
    "create_table(elephantsql_client, command)\n",
    "\n",
    "command = '''CREATE TABLE IF NOT EXISTS {}_tweets_table (tweet       varchar(500))'''.format(user3[1:])\n",
    "create_table(elephantsql_client, command)\n",
    "\n",
    "command = '''CREATE TABLE IF NOT EXISTS {}_tweets_table (tweet       varchar(500))'''.format(user4[1:])\n",
    "create_table(elephantsql_client, command)\n",
    "\n",
    "# Inserting tweets into tables\n",
    "generate_tweets(elephantsql_client, user1)\n",
    "generate_tweets(elephantsql_client, user2)\n",
    "generate_tweets(elephantsql_client, user3)\n",
    "generate_tweets(elephantsql_client, user4)\n",
    "\n",
    "# Close the connection\n",
    "elephantsql_client.close()\n",
    "print('Connection is closed.')"
   ]
  },
  {
   "cell_type": "markdown",
   "metadata": {},
   "source": [
    "**Create usernames table**"
   ]
  },
  {
   "cell_type": "code",
   "execution_count": 84,
   "metadata": {},
   "outputs": [
    {
     "name": "stdout",
     "output_type": "stream",
     "text": [
      "Connecting to the PostgreSQL database...\n",
      "Connection is closed.\n"
     ]
    }
   ],
   "source": [
    "# Database connection\n",
    "elephantsql_client = connect(ELEPHANTSQL_DATABASE, ELEPHANTSQL_USERNAME, ELEPHANTSQL_PASSWORD, ELEPHANTSQL_HOST)\n",
    "\n",
    "# Initializing usernames table\n",
    "command = '''CREATE TABLE IF NOT EXISTS usernames_table (username       varchar(30))'''\n",
    "create_table(elephantsql_client, command)\n",
    "\n",
    "# Adding users to the usernames table\n",
    "query = \"INSERT INTO usernames_table (username) VALUES ('{}')\".format(user1)\n",
    "single_insert(elephantsql_client, query)\n",
    "\n",
    "query = \"INSERT INTO usernames_table (username) VALUES ('{}')\".format(user2)\n",
    "single_insert(elephantsql_client, query)\n",
    "\n",
    "query = \"INSERT INTO usernames_table (username) VALUES ('{}')\".format(user3)\n",
    "single_insert(elephantsql_client, query)\n",
    "\n",
    "query = \"INSERT INTO usernames_table (username) VALUES ('{}')\".format(user4)\n",
    "single_insert(elephantsql_client, query)\n",
    "\n",
    "# Close the connection\n",
    "elephantsql_client.close()\n",
    "print('Connection is closed.')"
   ]
  },
  {
   "cell_type": "markdown",
   "metadata": {},
   "source": [
    "**Create comparisions table**"
   ]
  },
  {
   "cell_type": "code",
   "execution_count": 85,
   "metadata": {},
   "outputs": [
    {
     "name": "stdout",
     "output_type": "stream",
     "text": [
      "Connecting to the PostgreSQL database...\n",
      "Connection is closed.\n"
     ]
    }
   ],
   "source": [
    "# Database connection\n",
    "elephantsql_client = connect(ELEPHANTSQL_DATABASE, ELEPHANTSQL_USERNAME, ELEPHANTSQL_PASSWORD, ELEPHANTSQL_HOST)\n",
    "\n",
    "# Initializing recent comparisions table\n",
    "command = '''CREATE TABLE IF NOT EXISTS comparision_table (comparision_str       varchar(500))'''\n",
    "create_table(elephantsql_client, command)\n",
    "\n",
    "# Adding recent comparisions\n",
    "query = \"INSERT INTO comparision_table (comparision_str) VALUES ('{}')\".format(comp1)\n",
    "single_insert(elephantsql_client, query)\n",
    "\n",
    "# Close the connection\n",
    "elephantsql_client.close()\n",
    "print('Connection is closed.')"
   ]
  },
  {
   "cell_type": "markdown",
   "metadata": {},
   "source": [
    "**Get Table**"
   ]
  },
  {
   "cell_type": "code",
   "execution_count": 86,
   "metadata": {},
   "outputs": [],
   "source": [
    "def get_table(elephantsql_client, command):\n",
    "    # A \"cursor\", a structure to iterate over db records to perform queries\n",
    "    cur = elephantsql_client.cursor()\n",
    "\n",
    "    try:\n",
    "        # Execute commands in order\n",
    "        cur.execute(command)\n",
    "\n",
    "    except (Exception, psycopg2.DatabaseError) as error:\n",
    "        print(\"Error: %s\" % error)\n",
    "        elephantsql_client.rollback()\n",
    "        cur.close()\n",
    "        return 1\n",
    "\n",
    "    # Create list of database values\n",
    "    returned = []\n",
    "    returned_list = cur.fetchall()\n",
    "    for tup in returned_list:\n",
    "        returned.append(tup[0])\n",
    "    \n",
    "    # Close communication with the PostgreSQL database server\n",
    "    cur.close()\n",
    "\n",
    "    return returned"
   ]
  },
  {
   "cell_type": "code",
   "execution_count": 87,
   "metadata": {},
   "outputs": [
    {
     "name": "stdout",
     "output_type": "stream",
     "text": [
      "Connecting to the PostgreSQL database...\n",
      "Connection is closed.\n"
     ]
    }
   ],
   "source": [
    "# Database connection\n",
    "elephantsql_client = connect(ELEPHANTSQL_DATABASE, ELEPHANTSQL_USERNAME, ELEPHANTSQL_PASSWORD, ELEPHANTSQL_HOST)\n",
    "\n",
    "command = '''SELECT tweet FROM {}_tweets_table'''.format(user1[1:])\n",
    "user1_tweets = get_table(elephantsql_client, command)\n",
    "\n",
    "command = '''SELECT username FROM usernames_table'''\n",
    "usernames = get_table(elephantsql_client, command)\n",
    "\n",
    "command = '''SELECT comparision_str FROM comparision_table'''\n",
    "comparisions = get_table(elephantsql_client, command)\n",
    "\n",
    "# Close the connection\n",
    "elephantsql_client.close()\n",
    "print('Connection is closed.')"
   ]
  },
  {
   "cell_type": "code",
   "execution_count": 88,
   "metadata": {},
   "outputs": [
    {
     "name": "stdout",
     "output_type": "stream",
     "text": [
      "coming soon faster more accurate data to improve weather forecasts track severe storms and other hazardsnoaas goest satellite is scheduled to lift off at 438pm et 2138 utc tuesday march 1 get the schedule of briefings and launch coverage\n",
      "['@nasa', '@barackobama', '@justinbieber', '@billgates']\n",
      "['@nasa is more likely to say \"This week at NASA, we celebrate @NASAPersevere’s first landiversary, admire new X-ray images from #IXPE, and prepare for the next @NorthropGrumman resupply mission to the @SpaceStation.\" than @justinbieber']\n"
     ]
    }
   ],
   "source": [
    "print(user1_tweets[0])\n",
    "print(usernames)\n",
    "print(comparisions)"
   ]
  },
  {
   "cell_type": "markdown",
   "metadata": {},
   "source": [
    "**Delete all tables**"
   ]
  },
  {
   "cell_type": "code",
   "execution_count": 73,
   "metadata": {},
   "outputs": [],
   "source": [
    "def drop_table(elephantsql_client, command):\n",
    "    '''Drops table included in the input command'''\n",
    "    cur = elephantsql_client.cursor()\n",
    "    try:\n",
    "        cur.execute(command)\n",
    "        elephantsql_client.commit()\n",
    "\n",
    "    except (Exception, psycopg2.DatabaseError) as error:\n",
    "        print(\"Error: %s\" % error)\n",
    "        elephantsql_client.rollback()\n",
    "        cur.close()\n",
    "        return 1\n",
    "\n",
    "    cur.close()"
   ]
  },
  {
   "cell_type": "code",
   "execution_count": 74,
   "metadata": {},
   "outputs": [
    {
     "name": "stdout",
     "output_type": "stream",
     "text": [
      "Connecting to the PostgreSQL database...\n",
      "Connection is closed.\n"
     ]
    }
   ],
   "source": [
    "# Database connection\n",
    "elephantsql_client = connect(ELEPHANTSQL_DATABASE, ELEPHANTSQL_USERNAME, ELEPHANTSQL_PASSWORD, ELEPHANTSQL_HOST)\n",
    "\n",
    "command = '''SELECT username FROM usernames_table'''\n",
    "usernames = get_table(elephantsql_client, command)\n",
    "\n",
    "for user in usernames:\n",
    "    command = '''DROP TABLE {}_tweets_table;'''.format(user[1:])\n",
    "    # Execute commands in order\n",
    "    drop_table(elephantsql_client, command)\n",
    "\n",
    "command = '''DROP TABLE usernames_table;'''\n",
    "drop_table(elephantsql_client, command)\n",
    "\n",
    "command = '''DROP TABLE comparision_table;'''\n",
    "drop_table(elephantsql_client, command)\n",
    "\n",
    "# Close the connection\n",
    "elephantsql_client.close()\n",
    "print('Connection is closed.')"
   ]
  }
 ],
 "metadata": {
  "interpreter": {
   "hash": "878edaf2201edce6d4a06617dff3a215352c100cdc5bbd9fa7f83fa60e0da4ea"
  },
  "kernelspec": {
   "display_name": "Python 3.7.9 64-bit",
   "language": "python",
   "name": "python3"
  },
  "language_info": {
   "codemirror_mode": {
    "name": "ipython",
    "version": 3
   },
   "file_extension": ".py",
   "mimetype": "text/x-python",
   "name": "python",
   "nbconvert_exporter": "python",
   "pygments_lexer": "ipython3",
   "version": "3.7.9"
  },
  "orig_nbformat": 4
 },
 "nbformat": 4,
 "nbformat_minor": 2
}
