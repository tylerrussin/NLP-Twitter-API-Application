{
 "cells": [
  {
   "cell_type": "code",
   "execution_count": 192,
   "metadata": {},
   "outputs": [
    {
     "data": {
      "text/plain": [
       "True"
      ]
     },
     "execution_count": 192,
     "metadata": {},
     "output_type": "execute_result"
    }
   ],
   "source": [
    "import sys\n",
    "import re\n",
    "import pandas as pd\n",
    "import tweepy\n",
    "import psycopg2\n",
    "from os import getenv\n",
    "from dotenv import load_dotenv\n",
    "load_dotenv()"
   ]
  },
  {
   "cell_type": "code",
   "execution_count": 193,
   "metadata": {},
   "outputs": [],
   "source": [
    "ELEPHANTSQL_DATABASE = getenv('ELEPHANTSQL_DATABASE')\n",
    "ELEPHANTSQL_USERNAME = getenv('ELEPHANTSQL_USERNAME')\n",
    "ELEPHANTSQL_PASSWORD = getenv('ELEPHANTSQL_PASSWORD')\n",
    "ELEPHANTSQL_HOST = getenv('ELEPHANTSQL_HOST')\n",
    "\n",
    "TWITTER_CONSUMER_API_KEY = getenv('TWITTER_CONSUMER_API_KEY')\n",
    "TWITTER_CONSUMER_API_SECRET = getenv('TWITTER_CONSUMER_API_SECRET')\n",
    "TWITTER_ACCESS_TOKEN = getenv('TWITTER_ACCESS_TOKEN')\n",
    "TWITTER_ACCESS_TOKEN_SECRET = getenv('TWITTER_ACCESS_TOKEN_SECRET')\n",
    "\n",
    "TWITTER_AUTH = tweepy.OAuthHandler(TWITTER_CONSUMER_API_KEY,TWITTER_CONSUMER_API_SECRET)\n",
    "TWITTER_AUTH.set_access_token(TWITTER_ACCESS_TOKEN, TWITTER_ACCESS_TOKEN_SECRET)\n",
    "TWITTER = tweepy.API(TWITTER_AUTH)"
   ]
  },
  {
   "cell_type": "code",
   "execution_count": 194,
   "metadata": {},
   "outputs": [],
   "source": [
    "def connect(DATABASE, USERNAME, PASSWORD, HOST):\n",
    "    \"\"\" Connect to the PostgreSQL database server \"\"\"\n",
    "    elephantsql_client = None\n",
    "    try:\n",
    "        # connect to the PostgreSQL server\n",
    "        print('Connecting to the PostgreSQL database...')\n",
    "\n",
    "        # Connect to ElephantSQL-hosted PostgreSQL\n",
    "        elephantsql_client = psycopg2.connect(dbname=DATABASE, user=USERNAME, password=PASSWORD, host=HOST)\n",
    "\n",
    "    except (Exception, psycopg2.DatabaseError) as error:\n",
    "        print(error)\n",
    "        sys.exit(1)\n",
    "    return elephantsql_client"
   ]
  },
  {
   "cell_type": "code",
   "execution_count": 195,
   "metadata": {},
   "outputs": [],
   "source": [
    "def user_tweets_table(elephantsql_client, user):\n",
    "    '''Creating table for a users tweets'''\n",
    "\n",
    "    # Initializing table for new user\n",
    "    command = '''CREATE TABLE IF NOT EXISTS {}_tweets_table (tweet       varchar(500))'''.format(user[1:])\n",
    "    \n",
    "    try:\n",
    "\n",
    "        # A \"cursor\", a structure to iterate over db records to perform queries\n",
    "        cur = elephantsql_client.cursor()\n",
    "\n",
    "        # Execute commands in order\n",
    "        cur.execute(command)\n",
    "\n",
    "        # Close communication with the PostgreSQL database server\n",
    "        cur.close()\n",
    "\n",
    "        # Commit the changes\n",
    "        elephantsql_client.commit()\n",
    "\n",
    "    except (Exception, psycopg2.DatabaseError) as error:\n",
    "        print(error)"
   ]
  },
  {
   "cell_type": "code",
   "execution_count": 196,
   "metadata": {},
   "outputs": [],
   "source": [
    "def usernames_table(elephantsql_client):\n",
    "    '''Creating table for a all usernames'''\n",
    "\n",
    "    # Initializing table for new user\n",
    "    command = '''\n",
    "        CREATE TABLE IF NOT EXISTS usernames_table (username       varchar(30))                                    \n",
    "        '''\n",
    "    \n",
    "    try:\n",
    "\n",
    "        # A \"cursor\", a structure to iterate over db records to perform queries\n",
    "        cur = elephantsql_client.cursor()\n",
    "\n",
    "        # Execute commands in order\n",
    "        cur.execute(command)\n",
    "\n",
    "        # Close communication with the PostgreSQL database server\n",
    "        cur.close()\n",
    "\n",
    "        # Commit the changes\n",
    "        elephantsql_client.commit()\n",
    "\n",
    "    except (Exception, psycopg2.DatabaseError) as error:\n",
    "        print(error)\n"
   ]
  },
  {
   "cell_type": "code",
   "execution_count": 197,
   "metadata": {},
   "outputs": [],
   "source": [
    "def recent_table(elephantsql_client):\n",
    "    '''Creating table for recent tweet comparisons'''\n",
    "\n",
    "    # Initializing table for new user\n",
    "    command = '''\n",
    "        CREATE TABLE IF NOT EXISTS comparision_table (comparision_str       varchar(500))                                    \n",
    "        '''\n",
    "    \n",
    "    try:\n",
    "\n",
    "        # A \"cursor\", a structure to iterate over db records to perform queries\n",
    "        cur = elephantsql_client.cursor()\n",
    "\n",
    "        # Execute commands in order\n",
    "        cur.execute(command)\n",
    "\n",
    "        # Close communication with the PostgreSQL database server\n",
    "        cur.close()\n",
    "\n",
    "        # Commit the changes\n",
    "        elephantsql_client.commit()\n",
    "\n",
    "    except (Exception, psycopg2.DatabaseError) as error:\n",
    "        print(error)\n"
   ]
  },
  {
   "cell_type": "code",
   "execution_count": 198,
   "metadata": {},
   "outputs": [],
   "source": [
    "def single_insert(elephantsql_client, insert_req):\n",
    "    \"\"\" Execute a single INSERT request \"\"\"\n",
    "    cur = elephantsql_client.cursor()\n",
    "    try:\n",
    "        cur.execute(insert_req)\n",
    "        elephantsql_client.commit()\n",
    "    except (Exception, psycopg2.DatabaseError) as error:\n",
    "        print(\"Error: %s\" % error)\n",
    "        elephantsql_client.rollback()\n",
    "        cur.close()\n",
    "        return 1\n",
    "    cur.close()"
   ]
  },
  {
   "cell_type": "code",
   "execution_count": 199,
   "metadata": {},
   "outputs": [],
   "source": [
    "def execute_many(elephantsql_client, df, table):\n",
    "    \"\"\"\n",
    "    Using cursor.executemany() to insert the dataframe\n",
    "    \"\"\"\n",
    "    # Create a list of tupples from the dataframe values\n",
    "    tuples = [tuple(x) for x in df.to_numpy()]\n",
    "\n",
    "    # SQL quert to execute\n",
    "    query  = \"INSERT INTO %s(%s) VALUES(%%s)\" % (table, 'tweet')\n",
    "    cursor = elephantsql_client.cursor()\n",
    "    try:\n",
    "        cursor.executemany(query, tuples)\n",
    "        elephantsql_client.commit()\n",
    "    except (Exception, psycopg2.DatabaseError) as error:\n",
    "        print(\"Error: %s\" % error)\n",
    "        elephantsql_client.rollback()\n",
    "        cursor.close()\n",
    "        return 1\n",
    "    print(\"execute_many() done\")\n",
    "    cursor.close()"
   ]
  },
  {
   "cell_type": "code",
   "execution_count": 200,
   "metadata": {},
   "outputs": [],
   "source": [
    "def clean_tweet(tweet):\n",
    "    '''Cleaning raw tweet for modeling'''\n",
    "\n",
    "    tweet = tweet.lower()\n",
    "    emoji_list = tweet.split()                  # Creating list to reference emojis\n",
    "    tweet = re.sub('[^a-z 0-9]', '', tweet)\n",
    "    tweet = tweet.split(' ')\n",
    "    output_string = ''\n",
    "\n",
    "    # Creating output string, handeling links and emojis\n",
    "    for index, token in enumerate(tweet):\n",
    "        if token[0:4] == 'http':\n",
    "            pass\n",
    "        elif token == '':\n",
    "            try:\n",
    "                output_string = output_string + ' ' + str(ord(emoji_list[index]))   # Replacing emoji with number value\n",
    "            except:\n",
    "                # Token is not an emoji\n",
    "                pass\n",
    "        else:\n",
    "            output_string = output_string + ' ' + token\n",
    "\n",
    "    output_string = output_string[1:]\n",
    "\n",
    "    return output_string"
   ]
  },
  {
   "cell_type": "code",
   "execution_count": 201,
   "metadata": {},
   "outputs": [],
   "source": [
    "def generate_tweets(user):\n",
    "    tweets = []\n",
    "\n",
    "    for status in tweepy.Cursor(TWITTER.user_timeline, screen_name=user, tweet_mode=\"extended\", count=200).items():\n",
    "        tweets.append(clean_tweet(status.full_text))\n",
    "\n",
    "    return pd.DataFrame({'tweet':tweets})"
   ]
  },
  {
   "cell_type": "markdown",
   "metadata": {},
   "source": [
    "**Initial Data**"
   ]
  },
  {
   "cell_type": "code",
   "execution_count": 202,
   "metadata": {},
   "outputs": [],
   "source": [
    "# Initial users\n",
    "user1 = '@nasa'\n",
    "user2 = '@barackobama'\n",
    "user3 = '@justinbieber'\n",
    "user4 = '@billgates'\n",
    "\n",
    "# Recent Comparions\n",
    "comp1 = '@nasa is more likely to say \"This week at NASA, we celebrate @NASAPersevere’s first landiversary, admire new X-ray images from #IXPE, and prepare for the next @NorthropGrumman resupply mission to the @SpaceStation.\" than @justinbieber'"
   ]
  },
  {
   "cell_type": "markdown",
   "metadata": {},
   "source": [
    "**Create tweets tables**"
   ]
  },
  {
   "cell_type": "code",
   "execution_count": 203,
   "metadata": {},
   "outputs": [
    {
     "name": "stdout",
     "output_type": "stream",
     "text": [
      "Connecting to the PostgreSQL database...\n",
      "execute_many() done\n",
      "execute_many() done\n",
      "execute_many() done\n",
      "execute_many() done\n",
      "Connection is closed.\n"
     ]
    }
   ],
   "source": [
    "# Database connection\n",
    "elephantsql_client = connect(ELEPHANTSQL_DATABASE, ELEPHANTSQL_USERNAME, ELEPHANTSQL_PASSWORD, ELEPHANTSQL_HOST)\n",
    "\n",
    "# Building Inital user tweet tables\n",
    "user_tweets_table(elephantsql_client, user1)\n",
    "user_tweets_table(elephantsql_client, user2)\n",
    "user_tweets_table(elephantsql_client, user3)\n",
    "user_tweets_table(elephantsql_client, user4)\n",
    "\n",
    "# Generating dataframes\n",
    "df1 = generate_tweets(user1)\n",
    "df2 = generate_tweets(user2)\n",
    "df3 = generate_tweets(user3)\n",
    "df4 = generate_tweets(user4)\n",
    "\n",
    "# Inserting data from dataframes\n",
    "execute_many(elephantsql_client, df1, '{}_tweets_table'.format(user1[1:]))\n",
    "execute_many(elephantsql_client, df2, '{}_tweets_table'.format(user2[1:]))\n",
    "execute_many(elephantsql_client, df3, '{}_tweets_table'.format(user3[1:]))\n",
    "execute_many(elephantsql_client, df4, '{}_tweets_table'.format(user4[1:]))\n",
    "\n",
    "# Close the connection\n",
    "elephantsql_client.close()\n",
    "print('Connection is closed.')"
   ]
  },
  {
   "cell_type": "markdown",
   "metadata": {},
   "source": [
    "**Create usernames table**"
   ]
  },
  {
   "cell_type": "code",
   "execution_count": 204,
   "metadata": {},
   "outputs": [
    {
     "name": "stdout",
     "output_type": "stream",
     "text": [
      "Connecting to the PostgreSQL database...\n",
      "Connection is closed.\n"
     ]
    }
   ],
   "source": [
    "# Database connection\n",
    "elephantsql_client = connect(ELEPHANTSQL_DATABASE, ELEPHANTSQL_USERNAME, ELEPHANTSQL_PASSWORD, ELEPHANTSQL_HOST)\n",
    "\n",
    "# Initializing usernames table\n",
    "usernames_table(elephantsql_client)\n",
    "\n",
    "# Adding users to the usernames table\n",
    "query = \"INSERT INTO usernames_table (username) VALUES ('{}')\".format(user1)\n",
    "single_insert(elephantsql_client, query)\n",
    "\n",
    "query = \"INSERT INTO usernames_table (username) VALUES ('{}')\".format(user2)\n",
    "single_insert(elephantsql_client, query)\n",
    "\n",
    "query = \"INSERT INTO usernames_table (username) VALUES ('{}')\".format(user3)\n",
    "single_insert(elephantsql_client, query)\n",
    "\n",
    "query = \"INSERT INTO usernames_table (username) VALUES ('{}')\".format(user4)\n",
    "single_insert(elephantsql_client, query)\n",
    "\n",
    "# Close the connection\n",
    "elephantsql_client.close()\n",
    "print('Connection is closed.')"
   ]
  },
  {
   "cell_type": "markdown",
   "metadata": {},
   "source": [
    "**Create comparisions table**"
   ]
  },
  {
   "cell_type": "code",
   "execution_count": 205,
   "metadata": {},
   "outputs": [
    {
     "name": "stdout",
     "output_type": "stream",
     "text": [
      "Connecting to the PostgreSQL database...\n",
      "Connection is closed.\n"
     ]
    }
   ],
   "source": [
    "# Database connection\n",
    "elephantsql_client = connect(ELEPHANTSQL_DATABASE, ELEPHANTSQL_USERNAME, ELEPHANTSQL_PASSWORD, ELEPHANTSQL_HOST)\n",
    "\n",
    "# Initializing recent comparisions table\n",
    "recent_table(elephantsql_client)\n",
    "\n",
    "# Adding recent comparisions\n",
    "query = \"INSERT INTO comparision_table (comparision_str) VALUES ('{}')\".format(comp1)\n",
    "single_insert(elephantsql_client, query)\n",
    "\n",
    "# Close the connection\n",
    "elephantsql_client.close()\n",
    "print('Connection is closed.')"
   ]
  },
  {
   "cell_type": "markdown",
   "metadata": {},
   "source": [
    "**Retrive list of tweets for given user**"
   ]
  },
  {
   "cell_type": "code",
   "execution_count": 206,
   "metadata": {},
   "outputs": [],
   "source": [
    "def get_user_tweets(user):\n",
    "    # Creating the connection to database\n",
    "    elephantsql_client = connect(ELEPHANTSQL_DATABASE, ELEPHANTSQL_USERNAME, ELEPHANTSQL_PASSWORD, ELEPHANTSQL_HOST)\n",
    "\n",
    "    # A \"cursor\", a structure to iterate over db records to perform queries\n",
    "    cur = elephantsql_client.cursor()\n",
    "\n",
    "    command = '''\n",
    "    SELECT tweet FROM {}_tweets_table\n",
    "    '''.format(user[1:])\n",
    "\n",
    "    # Execute commands in order\n",
    "    cur.execute(command)\n",
    "\n",
    "    tweets = []\n",
    "    tweets_list = cur.fetchall()\n",
    "    for tup in tweets_list:\n",
    "        tweets.append(tup[0])\n",
    "\n",
    "    # Close communication with the PostgreSQL database server\n",
    "    cur.close()\n",
    "\n",
    "    # Commit the changes\n",
    "    elephantsql_client.commit()\n",
    "\n",
    "    # Close the connection\n",
    "    elephantsql_client.close()\n",
    "    print('Connection is closed.')\n",
    "\n",
    "    return tweets"
   ]
  },
  {
   "cell_type": "markdown",
   "metadata": {},
   "source": [
    "**Get Users**"
   ]
  },
  {
   "cell_type": "code",
   "execution_count": 207,
   "metadata": {},
   "outputs": [],
   "source": [
    "def get_users():\n",
    "    # Creating the connection to database\n",
    "    elephantsql_client = connect(ELEPHANTSQL_DATABASE, ELEPHANTSQL_USERNAME, ELEPHANTSQL_PASSWORD, ELEPHANTSQL_HOST)\n",
    "\n",
    "    # A \"cursor\", a structure to iterate over db records to perform queries\n",
    "    cur = elephantsql_client.cursor()\n",
    "\n",
    "    command = '''\n",
    "    SELECT username FROM usernames_table\n",
    "    '''\n",
    "\n",
    "    # Execute commands in order\n",
    "    cur.execute(command)\n",
    "\n",
    "    users = []\n",
    "    users_list = cur.fetchall()\n",
    "    for tup in users_list:\n",
    "        users.append(tup[0])\n",
    "\n",
    "    # Close communication with the PostgreSQL database server\n",
    "    cur.close()\n",
    "\n",
    "    # Commit the changes\n",
    "    elephantsql_client.commit()\n",
    "\n",
    "    # Close the connection\n",
    "    elephantsql_client.close()\n",
    "    print('Connection is closed.')\n",
    "\n",
    "    return users"
   ]
  },
  {
   "cell_type": "markdown",
   "metadata": {},
   "source": [
    "**Get comparisons**"
   ]
  },
  {
   "cell_type": "code",
   "execution_count": 208,
   "metadata": {},
   "outputs": [],
   "source": [
    "def get_comparisions():\n",
    "    # Creating the connection to database\n",
    "    elephantsql_client = connect(ELEPHANTSQL_DATABASE, ELEPHANTSQL_USERNAME, ELEPHANTSQL_PASSWORD, ELEPHANTSQL_HOST)\n",
    "\n",
    "    # A \"cursor\", a structure to iterate over db records to perform queries\n",
    "    cur = elephantsql_client.cursor()\n",
    "\n",
    "    command = '''\n",
    "    SELECT comparision_str FROM comparision_table\n",
    "    '''\n",
    "\n",
    "    # Execute commands in order\n",
    "    cur.execute(command)\n",
    "\n",
    "    comparisions = []\n",
    "    comparisions_list = cur.fetchall()\n",
    "    for tup in comparisions_list:\n",
    "        comparisions.append(tup[0])\n",
    "\n",
    "    # Close communication with the PostgreSQL database server\n",
    "    cur.close()\n",
    "\n",
    "    # Commit the changes\n",
    "    elephantsql_client.commit()\n",
    "\n",
    "    # Close the connection\n",
    "    elephantsql_client.close()\n",
    "    print('Connection is closed.')\n",
    "\n",
    "    return comparisions"
   ]
  },
  {
   "cell_type": "code",
   "execution_count": 209,
   "metadata": {},
   "outputs": [
    {
     "name": "stdout",
     "output_type": "stream",
     "text": [
      "Connecting to the PostgreSQL database...\n",
      "Connection is closed.\n",
      "Connecting to the PostgreSQL database...\n",
      "Connection is closed.\n",
      "Connecting to the PostgreSQL database...\n",
      "Connection is closed.\n"
     ]
    }
   ],
   "source": [
    "user1_tweets = get_user_tweets(user1)\n",
    "usernames = get_users()\n",
    "comparisions = get_comparisions()"
   ]
  },
  {
   "cell_type": "markdown",
   "metadata": {},
   "source": [
    "**Delete all tables**"
   ]
  },
  {
   "cell_type": "code",
   "execution_count": 210,
   "metadata": {},
   "outputs": [],
   "source": [
    "def drop_all_tables():\n",
    "    # Creating the connection to database\n",
    "    elephantsql_client = connect(ELEPHANTSQL_DATABASE, ELEPHANTSQL_USERNAME, ELEPHANTSQL_PASSWORD, ELEPHANTSQL_HOST)\n",
    "\n",
    "    # A \"cursor\", a structure to iterate over db records to perform queries\n",
    "    cur = elephantsql_client.cursor()\n",
    "\n",
    "    users = get_users()\n",
    "    \n",
    "    for user in users:\n",
    "        command = '''\n",
    "                DROP TABLE {}_tweets_table;\n",
    "                '''.format(user[1:])\n",
    "        # Execute commands in order\n",
    "        cur.execute(command)\n",
    "\n",
    "    command = '''\n",
    "    DROP TABLE usernames_table;\n",
    "    '''\n",
    "    cur.execute(command)\n",
    "\n",
    "    command = '''\n",
    "    DROP TABLE comparision_table;\n",
    "    '''\n",
    "    cur.execute(command)\n",
    "\n",
    "    # Close communication with the PostgreSQL database server\n",
    "    cur.close()\n",
    "\n",
    "    # Commit the changes\n",
    "    elephantsql_client.commit()\n",
    "\n",
    "    # Close the connection\n",
    "    elephantsql_client.close()\n",
    "    print('Connection is closed.')\n",
    "\n",
    "    return comparisions"
   ]
  }
 ],
 "metadata": {
  "interpreter": {
   "hash": "878edaf2201edce6d4a06617dff3a215352c100cdc5bbd9fa7f83fa60e0da4ea"
  },
  "kernelspec": {
   "display_name": "Python 3.7.9 64-bit",
   "language": "python",
   "name": "python3"
  },
  "language_info": {
   "codemirror_mode": {
    "name": "ipython",
    "version": 3
   },
   "file_extension": ".py",
   "mimetype": "text/x-python",
   "name": "python",
   "nbconvert_exporter": "python",
   "pygments_lexer": "ipython3",
   "version": "3.7.9"
  },
  "orig_nbformat": 4
 },
 "nbformat": 4,
 "nbformat_minor": 2
}
